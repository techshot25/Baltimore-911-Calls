{
 "cells": [
  {
   "cell_type": "markdown",
   "metadata": {},
   "source": [
    "## Baltimore 911 calls\n",
    "This code looks at the dataset `911_calls_for_service.csv` which contains over 22.4 million 911 calls made in the city of Baltimore. I will clean up the dataset to focus on the relationship between **call time**, **priority**, and **district**. I intend to train a classifier to accurately predict the **priority** of a given call based on the **call time** and **district**.\n",
    "\n",
    "This dataset records the time, location, priority, and reason for calls to 911 in the city of Baltimore.\n",
    "\n",
    "## Acknowledgements\n",
    "Thanks for Kaggle for making this set available. Visit [kaggle.com](https://www.kaggle.com/sohier/baltimore-911-calls/home) if you need publicly available datasets\n",
    "\n",
    "This dataset was kindly made available by the City of Baltimore. They update the data daily; you can find the original version [here](https://data.baltimorecity.gov/Public-Safety/911-Police-Calls-for-Service/xviu-ezkt)."
   ]
  },
  {
   "cell_type": "code",
   "execution_count": 1,
   "metadata": {},
   "outputs": [
    {
     "name": "stdout",
     "output_type": "stream",
     "text": [
      "22399312\n"
     ]
    },
    {
     "data": {
      "text/html": [
       "<div>\n",
       "<style scoped>\n",
       "    .dataframe tbody tr th:only-of-type {\n",
       "        vertical-align: middle;\n",
       "    }\n",
       "\n",
       "    .dataframe tbody tr th {\n",
       "        vertical-align: top;\n",
       "    }\n",
       "\n",
       "    .dataframe thead th {\n",
       "        text-align: right;\n",
       "    }\n",
       "</style>\n",
       "<table border=\"1\" class=\"dataframe\">\n",
       "  <thead>\n",
       "    <tr style=\"text-align: right;\">\n",
       "      <th></th>\n",
       "      <th>Unnamed: 0</th>\n",
       "      <th>callDateTime</th>\n",
       "      <th>priority</th>\n",
       "      <th>district</th>\n",
       "      <th>description</th>\n",
       "      <th>callNumber</th>\n",
       "      <th>incidentLocation</th>\n",
       "      <th>location</th>\n",
       "    </tr>\n",
       "  </thead>\n",
       "  <tbody>\n",
       "    <tr>\n",
       "      <th>0</th>\n",
       "      <td>0</td>\n",
       "      <td>2015-07-13 10:41:00</td>\n",
       "      <td>Medium</td>\n",
       "      <td>CD</td>\n",
       "      <td>SEE TEXT</td>\n",
       "      <td>P151941002</td>\n",
       "      <td>0 N CALVERT ST</td>\n",
       "      <td>(39.2899299,-76.6123462)</td>\n",
       "    </tr>\n",
       "    <tr>\n",
       "      <th>1</th>\n",
       "      <td>1</td>\n",
       "      <td>2015-07-13 10:47:00</td>\n",
       "      <td>Medium</td>\n",
       "      <td>CD</td>\n",
       "      <td>911/NO  VOICE</td>\n",
       "      <td>P151941003</td>\n",
       "      <td>600 E FAYETTE ST</td>\n",
       "      <td>(39.2906737,-76.6071600)</td>\n",
       "    </tr>\n",
       "    <tr>\n",
       "      <th>2</th>\n",
       "      <td>2</td>\n",
       "      <td>2015-07-13 10:42:00</td>\n",
       "      <td>Medium</td>\n",
       "      <td>CD</td>\n",
       "      <td>911/NO  VOICE</td>\n",
       "      <td>P151941004</td>\n",
       "      <td>200 E BALTIMORE ST</td>\n",
       "      <td>(39.2898910,-76.6120720)</td>\n",
       "    </tr>\n",
       "    <tr>\n",
       "      <th>3</th>\n",
       "      <td>3</td>\n",
       "      <td>2015-07-13 10:45:00</td>\n",
       "      <td>Low</td>\n",
       "      <td>CD</td>\n",
       "      <td>PRKG COMPLAINT</td>\n",
       "      <td>P151941005</td>\n",
       "      <td>800 PARK AV</td>\n",
       "      <td>(39.2985163,-76.6184754)</td>\n",
       "    </tr>\n",
       "    <tr>\n",
       "      <th>4</th>\n",
       "      <td>4</td>\n",
       "      <td>2015-07-13 10:46:00</td>\n",
       "      <td>Medium</td>\n",
       "      <td>SW</td>\n",
       "      <td>AUTO THEFT</td>\n",
       "      <td>P151941006</td>\n",
       "      <td>3500 CLIFTON AV</td>\n",
       "      <td>(39.3112130,-76.6763150)</td>\n",
       "    </tr>\n",
       "    <tr>\n",
       "      <th>5</th>\n",
       "      <td>5</td>\n",
       "      <td>2015-07-13 10:47:00</td>\n",
       "      <td>Medium</td>\n",
       "      <td>ND</td>\n",
       "      <td>FAMILY DISTURB</td>\n",
       "      <td>P151941007</td>\n",
       "      <td>2700 N CALVERT ST</td>\n",
       "      <td>(39.3208510,-76.6147390)</td>\n",
       "    </tr>\n",
       "    <tr>\n",
       "      <th>6</th>\n",
       "      <td>6</td>\n",
       "      <td>2015-07-13 10:46:00</td>\n",
       "      <td>High</td>\n",
       "      <td>WD</td>\n",
       "      <td>SILENT ALARM</td>\n",
       "      <td>P151941008</td>\n",
       "      <td>2100 W NORTH AV</td>\n",
       "      <td>(39.3097096,-76.6513109)</td>\n",
       "    </tr>\n",
       "    <tr>\n",
       "      <th>7</th>\n",
       "      <td>7</td>\n",
       "      <td>2015-07-13 10:49:00</td>\n",
       "      <td>Low</td>\n",
       "      <td>SW</td>\n",
       "      <td>AUTO ACCIDENT</td>\n",
       "      <td>P151941010</td>\n",
       "      <td>3100 WILKENS AV</td>\n",
       "      <td>(39.2756929,-76.6664179)</td>\n",
       "    </tr>\n",
       "    <tr>\n",
       "      <th>8</th>\n",
       "      <td>8</td>\n",
       "      <td>2015-07-13 10:48:00</td>\n",
       "      <td>Medium</td>\n",
       "      <td>NE</td>\n",
       "      <td>FAMILY DISTURB</td>\n",
       "      <td>P151941011</td>\n",
       "      <td>4800 GILRAY DR</td>\n",
       "      <td>(39.3483090,-76.5768440)</td>\n",
       "    </tr>\n",
       "    <tr>\n",
       "      <th>9</th>\n",
       "      <td>9</td>\n",
       "      <td>2015-07-13 10:49:00</td>\n",
       "      <td>Medium</td>\n",
       "      <td>ND</td>\n",
       "      <td>NARCOTICSOutside</td>\n",
       "      <td>P151941012</td>\n",
       "      <td>W GARRISON AV/PIMLICO RD</td>\n",
       "      <td>(39.349653,-76.669145)</td>\n",
       "    </tr>\n",
       "  </tbody>\n",
       "</table>\n",
       "</div>"
      ],
      "text/plain": [
       "   Unnamed: 0         callDateTime priority district       description  \\\n",
       "0           0  2015-07-13 10:41:00   Medium       CD          SEE TEXT   \n",
       "1           1  2015-07-13 10:47:00   Medium       CD     911/NO  VOICE   \n",
       "2           2  2015-07-13 10:42:00   Medium       CD     911/NO  VOICE   \n",
       "3           3  2015-07-13 10:45:00      Low       CD    PRKG COMPLAINT   \n",
       "4           4  2015-07-13 10:46:00   Medium       SW        AUTO THEFT   \n",
       "5           5  2015-07-13 10:47:00   Medium       ND    FAMILY DISTURB   \n",
       "6           6  2015-07-13 10:46:00     High       WD      SILENT ALARM   \n",
       "7           7  2015-07-13 10:49:00      Low       SW     AUTO ACCIDENT   \n",
       "8           8  2015-07-13 10:48:00   Medium       NE    FAMILY DISTURB   \n",
       "9           9  2015-07-13 10:49:00   Medium       ND  NARCOTICSOutside   \n",
       "\n",
       "   callNumber          incidentLocation                  location  \n",
       "0  P151941002            0 N CALVERT ST  (39.2899299,-76.6123462)  \n",
       "1  P151941003          600 E FAYETTE ST  (39.2906737,-76.6071600)  \n",
       "2  P151941004        200 E BALTIMORE ST  (39.2898910,-76.6120720)  \n",
       "3  P151941005               800 PARK AV  (39.2985163,-76.6184754)  \n",
       "4  P151941006           3500 CLIFTON AV  (39.3112130,-76.6763150)  \n",
       "5  P151941007         2700 N CALVERT ST  (39.3208510,-76.6147390)  \n",
       "6  P151941008           2100 W NORTH AV  (39.3097096,-76.6513109)  \n",
       "7  P151941010           3100 WILKENS AV  (39.2756929,-76.6664179)  \n",
       "8  P151941011            4800 GILRAY DR  (39.3483090,-76.5768440)  \n",
       "9  P151941012  W GARRISON AV/PIMLICO RD    (39.349653,-76.669145)  "
      ]
     },
     "execution_count": 1,
     "metadata": {},
     "output_type": "execute_result"
    }
   ],
   "source": [
    "import pandas as pd\n",
    "import numpy as np\n",
    "import seaborn as sns\n",
    "\n",
    "df = pd.read_csv('911_calls_for_service.csv')\n",
    "\n",
    "# print the size or number of rows and show the first 10 rows\n",
    "print(df.size)\n",
    "df.head(10)"
   ]
  },
  {
   "cell_type": "markdown",
   "metadata": {},
   "source": [
    "Drop the columns unnecessary for our analysis. "
   ]
  },
  {
   "cell_type": "code",
   "execution_count": 2,
   "metadata": {},
   "outputs": [
    {
     "data": {
      "text/html": [
       "<div>\n",
       "<style scoped>\n",
       "    .dataframe tbody tr th:only-of-type {\n",
       "        vertical-align: middle;\n",
       "    }\n",
       "\n",
       "    .dataframe tbody tr th {\n",
       "        vertical-align: top;\n",
       "    }\n",
       "\n",
       "    .dataframe thead th {\n",
       "        text-align: right;\n",
       "    }\n",
       "</style>\n",
       "<table border=\"1\" class=\"dataframe\">\n",
       "  <thead>\n",
       "    <tr style=\"text-align: right;\">\n",
       "      <th></th>\n",
       "      <th>callDateTime</th>\n",
       "      <th>priority</th>\n",
       "      <th>district</th>\n",
       "    </tr>\n",
       "  </thead>\n",
       "  <tbody>\n",
       "    <tr>\n",
       "      <th>0</th>\n",
       "      <td>2015-07-13 10:41:00</td>\n",
       "      <td>Medium</td>\n",
       "      <td>CD</td>\n",
       "    </tr>\n",
       "    <tr>\n",
       "      <th>1</th>\n",
       "      <td>2015-07-13 10:47:00</td>\n",
       "      <td>Medium</td>\n",
       "      <td>CD</td>\n",
       "    </tr>\n",
       "    <tr>\n",
       "      <th>2</th>\n",
       "      <td>2015-07-13 10:42:00</td>\n",
       "      <td>Medium</td>\n",
       "      <td>CD</td>\n",
       "    </tr>\n",
       "    <tr>\n",
       "      <th>3</th>\n",
       "      <td>2015-07-13 10:45:00</td>\n",
       "      <td>Low</td>\n",
       "      <td>CD</td>\n",
       "    </tr>\n",
       "    <tr>\n",
       "      <th>4</th>\n",
       "      <td>2015-07-13 10:46:00</td>\n",
       "      <td>Medium</td>\n",
       "      <td>SW</td>\n",
       "    </tr>\n",
       "    <tr>\n",
       "      <th>5</th>\n",
       "      <td>2015-07-13 10:47:00</td>\n",
       "      <td>Medium</td>\n",
       "      <td>ND</td>\n",
       "    </tr>\n",
       "    <tr>\n",
       "      <th>6</th>\n",
       "      <td>2015-07-13 10:46:00</td>\n",
       "      <td>High</td>\n",
       "      <td>WD</td>\n",
       "    </tr>\n",
       "    <tr>\n",
       "      <th>7</th>\n",
       "      <td>2015-07-13 10:49:00</td>\n",
       "      <td>Low</td>\n",
       "      <td>SW</td>\n",
       "    </tr>\n",
       "    <tr>\n",
       "      <th>8</th>\n",
       "      <td>2015-07-13 10:48:00</td>\n",
       "      <td>Medium</td>\n",
       "      <td>NE</td>\n",
       "    </tr>\n",
       "    <tr>\n",
       "      <th>9</th>\n",
       "      <td>2015-07-13 10:49:00</td>\n",
       "      <td>Medium</td>\n",
       "      <td>ND</td>\n",
       "    </tr>\n",
       "  </tbody>\n",
       "</table>\n",
       "</div>"
      ],
      "text/plain": [
       "          callDateTime priority district\n",
       "0  2015-07-13 10:41:00   Medium       CD\n",
       "1  2015-07-13 10:47:00   Medium       CD\n",
       "2  2015-07-13 10:42:00   Medium       CD\n",
       "3  2015-07-13 10:45:00      Low       CD\n",
       "4  2015-07-13 10:46:00   Medium       SW\n",
       "5  2015-07-13 10:47:00   Medium       ND\n",
       "6  2015-07-13 10:46:00     High       WD\n",
       "7  2015-07-13 10:49:00      Low       SW\n",
       "8  2015-07-13 10:48:00   Medium       NE\n",
       "9  2015-07-13 10:49:00   Medium       ND"
      ]
     },
     "execution_count": 2,
     "metadata": {},
     "output_type": "execute_result"
    }
   ],
   "source": [
    "df = df.drop(columns = ['Unnamed: 0', 'description', 'callNumber', 'incidentLocation', 'location'])\n",
    "df.head(10)"
   ]
  },
  {
   "cell_type": "markdown",
   "metadata": {},
   "source": [
    "Detect and remove missing values"
   ]
  },
  {
   "cell_type": "code",
   "execution_count": 3,
   "metadata": {},
   "outputs": [
    {
     "name": "stdout",
     "output_type": "stream",
     "text": [
      "priority    0.237686\n",
      "dtype: float64 %\n"
     ]
    }
   ],
   "source": [
    "# check for missing values\n",
    "missing_values = df.isnull().sum().sort_values(ascending = False)\n",
    "missing_values = missing_values[missing_values > 0]/df.shape[0]\n",
    "print(f'{missing_values *100} %')"
   ]
  },
  {
   "cell_type": "code",
   "execution_count": 4,
   "metadata": {},
   "outputs": [
    {
     "name": "stdout",
     "output_type": "stream",
     "text": [
      "0    Medium\n",
      "dtype: object\n"
     ]
    }
   ],
   "source": [
    "# find the mode of this dataset\n",
    "print(df['priority'].mode())"
   ]
  },
  {
   "cell_type": "code",
   "execution_count": 5,
   "metadata": {},
   "outputs": [],
   "source": [
    "# replace missing values with the mode\n",
    "df['priority'] = df['priority'].fillna('Medium')"
   ]
  },
  {
   "cell_type": "code",
   "execution_count": 6,
   "metadata": {},
   "outputs": [
    {
     "name": "stdout",
     "output_type": "stream",
     "text": [
      "Series([], dtype: float64) %\n"
     ]
    }
   ],
   "source": [
    "# check again for missing values\n",
    "missing_values = df.isnull().sum().sort_values(ascending = False)\n",
    "missing_values = missing_values[missing_values > 0]/df.shape[0]\n",
    "print(f'{missing_values *100} %')"
   ]
  },
  {
   "cell_type": "markdown",
   "metadata": {},
   "source": [
    "This is a bit sophisticated, the idea is to strip the data from the `callDateTime` and that helps finding the relationship between the call time and priority"
   ]
  },
  {
   "cell_type": "code",
   "execution_count": 7,
   "metadata": {},
   "outputs": [],
   "source": [
    "df['callDateTime'] = pd.to_datetime(df['callDateTime'])\n",
    "df['callDateTime'] = [str(d.time()) for d in df['callDateTime']]"
   ]
  },
  {
   "cell_type": "markdown",
   "metadata": {},
   "source": [
    "Here I split the dataset into different timeframes, I chose to split it up to 3 hour intervals. The number of intervals is really arbitrary. However, the higher the number of intervals, the more accurate the prediction is."
   ]
  },
  {
   "cell_type": "code",
   "execution_count": 8,
   "metadata": {},
   "outputs": [
    {
     "data": {
      "text/plain": [
       "array([0, 1, 2, 3, 4, 5, 7], dtype=int64)"
      ]
     },
     "execution_count": 8,
     "metadata": {},
     "output_type": "execute_result"
    }
   ],
   "source": [
    "from datetime import datetime\n",
    "\n",
    "def inrange(t1, time, t2):\n",
    "    form = \"%H:%M\"\n",
    "    t1 = datetime.strptime(t1, form)\n",
    "    t2 = datetime.strptime(t2, form)\n",
    "    time = datetime.strptime(time[:-3], form)\n",
    "    \n",
    "    return t1 < time < t2\n",
    "\n",
    "def timeofday(time):\n",
    "    if inrange('4:00', time, '6:59'):\n",
    "        return 0\n",
    "    elif inrange('7:00', time, '9:59'):\n",
    "        return 1\n",
    "    elif inrange('10:00', time, '12:59'):\n",
    "        return 2\n",
    "    elif inrange('13:00', time, '15:59'):\n",
    "        return 3\n",
    "    elif inrange('16:00', time, '18:59'):\n",
    "        return 4\n",
    "    elif inrange('19:00', time, '21:59'):\n",
    "        return 5\n",
    "    elif inrange('22:00', time, '00:59'):\n",
    "        return 6\n",
    "    else:\n",
    "        return 7\n",
    "\n",
    "df['callDateTime'] = df['callDateTime'].apply(timeofday)\n",
    "\n",
    "np.unique(df['callDateTime'])"
   ]
  },
  {
   "cell_type": "markdown",
   "metadata": {},
   "source": [
    "Moving on to priority. This time I will just use the `LabelEncoder` function from sklearn's preprocessing library."
   ]
  },
  {
   "cell_type": "code",
   "execution_count": 9,
   "metadata": {},
   "outputs": [
    {
     "data": {
      "text/plain": [
       "array(['Emergency', 'High', 'Low', 'Medium', 'Non-Emergency',\n",
       "       'Out of Service'], dtype=object)"
      ]
     },
     "execution_count": 9,
     "metadata": {},
     "output_type": "execute_result"
    }
   ],
   "source": [
    "priority = np.unique(df['priority'])\n",
    "priority"
   ]
  },
  {
   "cell_type": "code",
   "execution_count": 10,
   "metadata": {},
   "outputs": [
    {
     "data": {
      "text/html": [
       "<div>\n",
       "<style scoped>\n",
       "    .dataframe tbody tr th:only-of-type {\n",
       "        vertical-align: middle;\n",
       "    }\n",
       "\n",
       "    .dataframe tbody tr th {\n",
       "        vertical-align: top;\n",
       "    }\n",
       "\n",
       "    .dataframe thead th {\n",
       "        text-align: right;\n",
       "    }\n",
       "</style>\n",
       "<table border=\"1\" class=\"dataframe\">\n",
       "  <thead>\n",
       "    <tr style=\"text-align: right;\">\n",
       "      <th></th>\n",
       "      <th>callDateTime</th>\n",
       "      <th>priority</th>\n",
       "      <th>district</th>\n",
       "    </tr>\n",
       "  </thead>\n",
       "  <tbody>\n",
       "    <tr>\n",
       "      <th>0</th>\n",
       "      <td>2</td>\n",
       "      <td>3</td>\n",
       "      <td>CD</td>\n",
       "    </tr>\n",
       "    <tr>\n",
       "      <th>1</th>\n",
       "      <td>2</td>\n",
       "      <td>3</td>\n",
       "      <td>CD</td>\n",
       "    </tr>\n",
       "    <tr>\n",
       "      <th>2</th>\n",
       "      <td>2</td>\n",
       "      <td>3</td>\n",
       "      <td>CD</td>\n",
       "    </tr>\n",
       "    <tr>\n",
       "      <th>3</th>\n",
       "      <td>2</td>\n",
       "      <td>2</td>\n",
       "      <td>CD</td>\n",
       "    </tr>\n",
       "    <tr>\n",
       "      <th>4</th>\n",
       "      <td>2</td>\n",
       "      <td>3</td>\n",
       "      <td>SW</td>\n",
       "    </tr>\n",
       "  </tbody>\n",
       "</table>\n",
       "</div>"
      ],
      "text/plain": [
       "   callDateTime  priority district\n",
       "0             2         3       CD\n",
       "1             2         3       CD\n",
       "2             2         3       CD\n",
       "3             2         2       CD\n",
       "4             2         3       SW"
      ]
     },
     "execution_count": 10,
     "metadata": {},
     "output_type": "execute_result"
    }
   ],
   "source": [
    "from sklearn.preprocessing import LabelEncoder\n",
    "\n",
    "df['priority'] = LabelEncoder().fit_transform(df['priority'])\n",
    "# call LabelEncoder().inverse_transform(array) to recall values \n",
    "\n",
    "df.head()"
   ]
  },
  {
   "cell_type": "code",
   "execution_count": 11,
   "metadata": {},
   "outputs": [
    {
     "data": {
      "text/html": [
       "<div>\n",
       "<style scoped>\n",
       "    .dataframe tbody tr th:only-of-type {\n",
       "        vertical-align: middle;\n",
       "    }\n",
       "\n",
       "    .dataframe tbody tr th {\n",
       "        vertical-align: top;\n",
       "    }\n",
       "\n",
       "    .dataframe thead th {\n",
       "        text-align: right;\n",
       "    }\n",
       "</style>\n",
       "<table border=\"1\" class=\"dataframe\">\n",
       "  <thead>\n",
       "    <tr style=\"text-align: right;\">\n",
       "      <th></th>\n",
       "      <th>callDateTime</th>\n",
       "      <th>priority</th>\n",
       "      <th>district</th>\n",
       "    </tr>\n",
       "  </thead>\n",
       "  <tbody>\n",
       "    <tr>\n",
       "      <th>0</th>\n",
       "      <td>2</td>\n",
       "      <td>3</td>\n",
       "      <td>0</td>\n",
       "    </tr>\n",
       "    <tr>\n",
       "      <th>1</th>\n",
       "      <td>2</td>\n",
       "      <td>3</td>\n",
       "      <td>0</td>\n",
       "    </tr>\n",
       "    <tr>\n",
       "      <th>2</th>\n",
       "      <td>2</td>\n",
       "      <td>3</td>\n",
       "      <td>0</td>\n",
       "    </tr>\n",
       "    <tr>\n",
       "      <th>3</th>\n",
       "      <td>2</td>\n",
       "      <td>2</td>\n",
       "      <td>0</td>\n",
       "    </tr>\n",
       "    <tr>\n",
       "      <th>4</th>\n",
       "      <td>2</td>\n",
       "      <td>3</td>\n",
       "      <td>15</td>\n",
       "    </tr>\n",
       "    <tr>\n",
       "      <th>5</th>\n",
       "      <td>2</td>\n",
       "      <td>3</td>\n",
       "      <td>9</td>\n",
       "    </tr>\n",
       "    <tr>\n",
       "      <th>6</th>\n",
       "      <td>2</td>\n",
       "      <td>1</td>\n",
       "      <td>17</td>\n",
       "    </tr>\n",
       "    <tr>\n",
       "      <th>7</th>\n",
       "      <td>2</td>\n",
       "      <td>2</td>\n",
       "      <td>15</td>\n",
       "    </tr>\n",
       "    <tr>\n",
       "      <th>8</th>\n",
       "      <td>2</td>\n",
       "      <td>3</td>\n",
       "      <td>10</td>\n",
       "    </tr>\n",
       "    <tr>\n",
       "      <th>9</th>\n",
       "      <td>2</td>\n",
       "      <td>3</td>\n",
       "      <td>9</td>\n",
       "    </tr>\n",
       "  </tbody>\n",
       "</table>\n",
       "</div>"
      ],
      "text/plain": [
       "   callDateTime  priority  district\n",
       "0             2         3         0\n",
       "1             2         3         0\n",
       "2             2         3         0\n",
       "3             2         2         0\n",
       "4             2         3        15\n",
       "5             2         3         9\n",
       "6             2         1        17\n",
       "7             2         2        15\n",
       "8             2         3        10\n",
       "9             2         3         9"
      ]
     },
     "execution_count": 11,
     "metadata": {},
     "output_type": "execute_result"
    }
   ],
   "source": [
    "df['district'] = LabelEncoder().fit_transform(df['district'])\n",
    "\n",
    "df.head(10)"
   ]
  },
  {
   "cell_type": "markdown",
   "metadata": {},
   "source": [
    "### Statistics\n",
    "Here I explore the nature of this dataset. This will help us understand the parameters we need for our probability analysis."
   ]
  },
  {
   "cell_type": "code",
   "execution_count": 12,
   "metadata": {},
   "outputs": [
    {
     "name": "stderr",
     "output_type": "stream",
     "text": [
      "C:\\ProgramData\\Anaconda3\\lib\\site-packages\\scipy\\stats\\stats.py:1713: FutureWarning: Using a non-tuple sequence for multidimensional indexing is deprecated; use `arr[tuple(seq)]` instead of `arr[seq]`. In the future this will be interpreted as an array index, `arr[np.array(seq)]`, which will result either in an error or a different result.\n",
      "  return np.add.reduce(sorted[indexer] * weights, axis=axis) / sumval\n"
     ]
    },
    {
     "data": {
      "text/plain": [
       "<matplotlib.axes._subplots.AxesSubplot at 0x1a30fb9b5c0>"
      ]
     },
     "execution_count": 12,
     "metadata": {},
     "output_type": "execute_result"
    },
    {
     "data": {
      "image/png": "[encoded data removed]",
      "text/plain": [
       "<Figure size 432x288 with 1 Axes>"
      ]
     },
     "metadata": {},
     "output_type": "display_data"
    }
   ],
   "source": [
    "import matplotlib.pyplot as plt\n",
    "from scipy import stats\n",
    "sns.set(color_codes=True)\n",
    "x = df['priority']\n",
    "sns.distplot(x)"
   ]
  },
  {
   "cell_type": "markdown",
   "metadata": {},
   "source": [
    "The majority of calls closely resemble a normal distribution with the mode being Medium as we predicted earlier"
   ]
  },
  {
   "cell_type": "code",
   "execution_count": 13,
   "metadata": {},
   "outputs": [
    {
     "data": {
      "text/plain": [
       "<matplotlib.axes._subplots.AxesSubplot at 0x1a30fb9b470>"
      ]
     },
     "execution_count": 13,
     "metadata": {},
     "output_type": "execute_result"
    },
    {
     "data": {
      "image/png": "[encoded data removed]",
      "text/plain": [
       "<Figure size 432x288 with 1 Axes>"
      ]
     },
     "metadata": {},
     "output_type": "display_data"
    }
   ],
   "source": [
    "sns.set()\n",
    "sns.distplot(df['district'])"
   ]
  },
  {
   "cell_type": "markdown",
   "metadata": {},
   "source": [
    "Seems like some districts are more likely to call 911 than others. Maybe this is due to the fact of how districts are geographically defined."
   ]
  },
  {
   "cell_type": "code",
   "execution_count": 14,
   "metadata": {},
   "outputs": [
    {
     "data": {
      "image/png": "[encoded data removed]",
      "text/plain": [
       "<Figure size 504x432 with 2 Axes>"
      ]
     },
     "metadata": {},
     "output_type": "display_data"
    }
   ],
   "source": [
    "sns.set(style='ticks', color_codes=True)\n",
    "plt.figure(figsize=(7, 6))\n",
    "sns.heatmap(df.astype(float).corr(), \n",
    "            linewidths=0.2, \n",
    "            square=True, \n",
    "            linecolor='white', \n",
    "            annot=True)\n",
    "plt.show()"
   ]
  },
  {
   "cell_type": "markdown",
   "metadata": {},
   "source": [
    "## Machine Learning (prediction)\n",
    "\n",
    "First, we need to display our call datetime slightly differently. To start, we need to switch them back to strings since we need the strings to get dummy matrix.\n",
    "\n",
    "#### Dummy Matrix\n",
    "\n",
    "The Pandas `get_dummies` converts the matrix of ones and zeros. This will be more useful since our classifiers will treat the inputs as numbers instead of integers\n",
    "\n",
    "$\\left \\{ x_{i} \\; | \\; x_{i} \\in \\mathbb{Z} \\;:\\; x_{i} \\in [0, 1] \\right \\}$\n",
    "\n",
    "$$\\begin{pmatrix}\\text{Medium}\\\\ \\text{High}\\\\ \\text{Low}\\\\ \\vdots  \\end{pmatrix}=\\begin{bmatrix}\n",
    "    x_{11} & x_{12} & x_{13} & \\dots  & x_{1n} \\\\\n",
    "    x_{21} & x_{22} & x_{23} & \\dots  & x_{2n} \\\\\n",
    "    \\vdots & \\vdots & \\vdots & \\ddots & \\vdots \\\\\n",
    "    x_{d1} & x_{d2} & x_{d3} & \\dots  & x_{dn}\n",
    "\\end{bmatrix} \\begin{pmatrix}\\text{High}\\\\ \\text{Medium}\\\\ \\text{Low}\\\\ \\vdots  \\end{pmatrix}$$"
   ]
  },
  {
   "cell_type": "code",
   "execution_count": 15,
   "metadata": {},
   "outputs": [
    {
     "data": {
      "text/html": [
       "<div>\n",
       "<style scoped>\n",
       "    .dataframe tbody tr th:only-of-type {\n",
       "        vertical-align: middle;\n",
       "    }\n",
       "\n",
       "    .dataframe tbody tr th {\n",
       "        vertical-align: top;\n",
       "    }\n",
       "\n",
       "    .dataframe thead th {\n",
       "        text-align: right;\n",
       "    }\n",
       "</style>\n",
       "<table border=\"1\" class=\"dataframe\">\n",
       "  <thead>\n",
       "    <tr style=\"text-align: right;\">\n",
       "      <th></th>\n",
       "      <th>priority</th>\n",
       "      <th>callDateTime_0</th>\n",
       "      <th>callDateTime_1</th>\n",
       "      <th>callDateTime_2</th>\n",
       "      <th>callDateTime_3</th>\n",
       "      <th>callDateTime_4</th>\n",
       "      <th>callDateTime_5</th>\n",
       "      <th>callDateTime_7</th>\n",
       "      <th>district_0</th>\n",
       "      <th>district_1</th>\n",
       "      <th>...</th>\n",
       "      <th>district_16</th>\n",
       "      <th>district_17</th>\n",
       "      <th>district_2</th>\n",
       "      <th>district_3</th>\n",
       "      <th>district_4</th>\n",
       "      <th>district_5</th>\n",
       "      <th>district_6</th>\n",
       "      <th>district_7</th>\n",
       "      <th>district_8</th>\n",
       "      <th>district_9</th>\n",
       "    </tr>\n",
       "  </thead>\n",
       "  <tbody>\n",
       "    <tr>\n",
       "      <th>0</th>\n",
       "      <td>3</td>\n",
       "      <td>0</td>\n",
       "      <td>0</td>\n",
       "      <td>1</td>\n",
       "      <td>0</td>\n",
       "      <td>0</td>\n",
       "      <td>0</td>\n",
       "      <td>0</td>\n",
       "      <td>1</td>\n",
       "      <td>0</td>\n",
       "      <td>...</td>\n",
       "      <td>0</td>\n",
       "      <td>0</td>\n",
       "      <td>0</td>\n",
       "      <td>0</td>\n",
       "      <td>0</td>\n",
       "      <td>0</td>\n",
       "      <td>0</td>\n",
       "      <td>0</td>\n",
       "      <td>0</td>\n",
       "      <td>0</td>\n",
       "    </tr>\n",
       "    <tr>\n",
       "      <th>1</th>\n",
       "      <td>3</td>\n",
       "      <td>0</td>\n",
       "      <td>0</td>\n",
       "      <td>1</td>\n",
       "      <td>0</td>\n",
       "      <td>0</td>\n",
       "      <td>0</td>\n",
       "      <td>0</td>\n",
       "      <td>1</td>\n",
       "      <td>0</td>\n",
       "      <td>...</td>\n",
       "      <td>0</td>\n",
       "      <td>0</td>\n",
       "      <td>0</td>\n",
       "      <td>0</td>\n",
       "      <td>0</td>\n",
       "      <td>0</td>\n",
       "      <td>0</td>\n",
       "      <td>0</td>\n",
       "      <td>0</td>\n",
       "      <td>0</td>\n",
       "    </tr>\n",
       "    <tr>\n",
       "      <th>2</th>\n",
       "      <td>3</td>\n",
       "      <td>0</td>\n",
       "      <td>0</td>\n",
       "      <td>1</td>\n",
       "      <td>0</td>\n",
       "      <td>0</td>\n",
       "      <td>0</td>\n",
       "      <td>0</td>\n",
       "      <td>1</td>\n",
       "      <td>0</td>\n",
       "      <td>...</td>\n",
       "      <td>0</td>\n",
       "      <td>0</td>\n",
       "      <td>0</td>\n",
       "      <td>0</td>\n",
       "      <td>0</td>\n",
       "      <td>0</td>\n",
       "      <td>0</td>\n",
       "      <td>0</td>\n",
       "      <td>0</td>\n",
       "      <td>0</td>\n",
       "    </tr>\n",
       "    <tr>\n",
       "      <th>3</th>\n",
       "      <td>2</td>\n",
       "      <td>0</td>\n",
       "      <td>0</td>\n",
       "      <td>1</td>\n",
       "      <td>0</td>\n",
       "      <td>0</td>\n",
       "      <td>0</td>\n",
       "      <td>0</td>\n",
       "      <td>1</td>\n",
       "      <td>0</td>\n",
       "      <td>...</td>\n",
       "      <td>0</td>\n",
       "      <td>0</td>\n",
       "      <td>0</td>\n",
       "      <td>0</td>\n",
       "      <td>0</td>\n",
       "      <td>0</td>\n",
       "      <td>0</td>\n",
       "      <td>0</td>\n",
       "      <td>0</td>\n",
       "      <td>0</td>\n",
       "    </tr>\n",
       "    <tr>\n",
       "      <th>4</th>\n",
       "      <td>3</td>\n",
       "      <td>0</td>\n",
       "      <td>0</td>\n",
       "      <td>1</td>\n",
       "      <td>0</td>\n",
       "      <td>0</td>\n",
       "      <td>0</td>\n",
       "      <td>0</td>\n",
       "      <td>0</td>\n",
       "      <td>0</td>\n",
       "      <td>...</td>\n",
       "      <td>0</td>\n",
       "      <td>0</td>\n",
       "      <td>0</td>\n",
       "      <td>0</td>\n",
       "      <td>0</td>\n",
       "      <td>0</td>\n",
       "      <td>0</td>\n",
       "      <td>0</td>\n",
       "      <td>0</td>\n",
       "      <td>0</td>\n",
       "    </tr>\n",
       "  </tbody>\n",
       "</table>\n",
       "<p>5 rows × 26 columns</p>\n",
       "</div>"
      ],
      "text/plain": [
       "   priority  callDateTime_0  callDateTime_1  callDateTime_2  callDateTime_3  \\\n",
       "0         3               0               0               1               0   \n",
       "1         3               0               0               1               0   \n",
       "2         3               0               0               1               0   \n",
       "3         2               0               0               1               0   \n",
       "4         3               0               0               1               0   \n",
       "\n",
       "   callDateTime_4  callDateTime_5  callDateTime_7  district_0  district_1  \\\n",
       "0               0               0               0           1           0   \n",
       "1               0               0               0           1           0   \n",
       "2               0               0               0           1           0   \n",
       "3               0               0               0           1           0   \n",
       "4               0               0               0           0           0   \n",
       "\n",
       "      ...      district_16  district_17  district_2  district_3  district_4  \\\n",
       "0     ...                0            0           0           0           0   \n",
       "1     ...                0            0           0           0           0   \n",
       "2     ...                0            0           0           0           0   \n",
       "3     ...                0            0           0           0           0   \n",
       "4     ...                0            0           0           0           0   \n",
       "\n",
       "   district_5  district_6  district_7  district_8  district_9  \n",
       "0           0           0           0           0           0  \n",
       "1           0           0           0           0           0  \n",
       "2           0           0           0           0           0  \n",
       "3           0           0           0           0           0  \n",
       "4           0           0           0           0           0  \n",
       "\n",
       "[5 rows x 26 columns]"
      ]
     },
     "execution_count": 15,
     "metadata": {},
     "output_type": "execute_result"
    }
   ],
   "source": [
    "df['callDateTime'] = [str(d) for d in df['callDateTime']]\n",
    "df['district'] = [str(d) for d in df['district']]\n",
    "\n",
    "df = pd.get_dummies(df)\n",
    "\n",
    "df.head()"
   ]
  },
  {
   "cell_type": "markdown",
   "metadata": {},
   "source": [
    "This part will split the data into features and classifiers. The classifier is the first row (**priority**). The features are all other rows."
   ]
  },
  {
   "cell_type": "code",
   "execution_count": 51,
   "metadata": {},
   "outputs": [],
   "source": [
    "X = df[df.columns[2:]].values\n",
    "y = df[df.columns[1]].values"
   ]
  },
  {
   "cell_type": "markdown",
   "metadata": {},
   "source": [
    "Split the data into training and testing sets."
   ]
  },
  {
   "cell_type": "code",
   "execution_count": 52,
   "metadata": {},
   "outputs": [],
   "source": [
    "from sklearn.model_selection import train_test_split\n",
    "\n",
    "X_train, X_test, y_train, y_test = train_test_split(X, y, test_size=0.1)"
   ]
  },
  {
   "cell_type": "code",
   "execution_count": 53,
   "metadata": {},
   "outputs": [],
   "source": [
    "from sklearn import tree\n",
    "\n",
    "decTree = tree.DecisionTreeClassifier()\n",
    "\n",
    "decTree = decTree.fit(X_train, y_train)"
   ]
  },
  {
   "cell_type": "code",
   "execution_count": 54,
   "metadata": {},
   "outputs": [
    {
     "name": "stdout",
     "output_type": "stream",
     "text": [
      "Accuracy using Decision Tree Classifier is nearly 100.0 %\n"
     ]
    }
   ],
   "source": [
    "from sklearn.metrics import accuracy_score\n",
    "\n",
    "decTree_score = accuracy_score(y_test, decTree.predict(X_test))\n",
    "\n",
    "print('Accuracy using Decision Tree Classifier is nearly ' + f'{decTree_score *100} %')"
   ]
  },
  {
   "cell_type": "code",
   "execution_count": 55,
   "metadata": {},
   "outputs": [
    {
     "name": "stderr",
     "output_type": "stream",
     "text": [
      "C:\\ProgramData\\Anaconda3\\lib\\site-packages\\sklearn\\linear_model\\logistic.py:433: FutureWarning: Default solver will be changed to 'lbfgs' in 0.22. Specify a solver to silence this warning.\n",
      "  FutureWarning)\n"
     ]
    },
    {
     "name": "stdout",
     "output_type": "stream",
     "text": [
      "Accuracy using Logistic Regression is nearly 100.0 %\n"
     ]
    }
   ],
   "source": [
    "from sklearn.linear_model import LogisticRegression\n",
    "\n",
    "logReg = LogisticRegression().fit(X_train, y_train)\n",
    "\n",
    "logReg_score = accuracy_score(y_test, logReg.predict(X_test))\n",
    "\n",
    "print('Accuracy using Logistic Regression is nearly ' + f'{logReg_score *100} %')"
   ]
  },
  {
   "cell_type": "markdown",
   "metadata": {},
   "source": [
    "This is outstanding! Using only 10% of the data, we were able to predict priority of a given call using location and time of call. Notice that the `accuracy_score` by default rounds the numbers up. In reality, this might be around 99.9991% but it is still pretty acccurate."
   ]
  },
  {
   "cell_type": "code",
   "execution_count": null,
   "metadata": {},
   "outputs": [],
   "source": []
  }
 ],
 "metadata": {
  "kernelspec": {
   "display_name": "Python 3",
   "language": "python",
   "name": "python3"
  },
  "language_info": {
   "codemirror_mode": {
    "name": "ipython",
    "version": 3
   },
   "file_extension": ".py",
   "mimetype": "text/x-python",
   "name": "python",
   "nbconvert_exporter": "python",
   "pygments_lexer": "ipython3",
   "version": "3.6.7"
  }
 },
 "nbformat": 4,
 "nbformat_minor": 2
}
